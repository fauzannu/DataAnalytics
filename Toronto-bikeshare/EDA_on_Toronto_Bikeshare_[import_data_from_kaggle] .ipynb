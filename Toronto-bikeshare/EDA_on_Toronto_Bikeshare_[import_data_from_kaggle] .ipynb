{
  "nbformat": 4,
  "nbformat_minor": 0,
  "metadata": {
    "colab": {
      "name": "2021.06.30 EDA with Toronto Bikeshare [import data form kaggle] .ipynb",
      "provenance": []
    },
    "kernelspec": {
      "name": "python3",
      "display_name": "Python 3"
    },
    "language_info": {
      "name": "python"
    }
  },
  "cells": [
    {
      "cell_type": "markdown",
      "metadata": {
        "id": "8WFKVEaLnPnW"
      },
      "source": [
        "# dari https://www.kaggle.com/general/74235"
      ]
    },
    {
      "cell_type": "code",
      "metadata": {
        "id": "xDQveS0Hifs_"
      },
      "source": [
        "! pip install -q kaggle"
      ],
      "execution_count": 2,
      "outputs": []
    },
    {
      "cell_type": "code",
      "metadata": {
        "colab": {
          "resources": {
            "http://localhost:8080/nbextensions/google.colab/files.js": {
              "data": "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",
              "ok": true,
              "headers": [
                [
                  "content-type",
                  "application/javascript"
                ]
              ],
              "status": 200,
              "status_text": ""
            }
          },
          "base_uri": "https://localhost:8080/",
          "height": 91
        },
        "id": "n4ofaRszifkN",
        "outputId": "05a9fbd1-c239-4218-a194-bfc356d8f190"
      },
      "source": [
        "from google.colab import files\n",
        "files.upload()"
      ],
      "execution_count": 12,
      "outputs": [
        {
          "output_type": "display_data",
          "data": {
            "text/html": [
              "\n",
              "     <input type=\"file\" id=\"files-6125d9b0-093f-4d69-a507-36d72528e6d5\" name=\"files[]\" multiple disabled\n",
              "        style=\"border:none\" />\n",
              "     <output id=\"result-6125d9b0-093f-4d69-a507-36d72528e6d5\">\n",
              "      Upload widget is only available when the cell has been executed in the\n",
              "      current browser session. Please rerun this cell to enable.\n",
              "      </output>\n",
              "      <script src=\"/nbextensions/google.colab/files.js\"></script> "
            ],
            "text/plain": [
              "<IPython.core.display.HTML object>"
            ]
          },
          "metadata": {
            "tags": []
          }
        },
        {
          "output_type": "stream",
          "text": [
            "Saving kaggle (1).json to kaggle (1).json\n"
          ],
          "name": "stdout"
        },
        {
          "output_type": "execute_result",
          "data": {
            "text/plain": [
              "{'kaggle (1).json': b'{\"username\":\"fn1stim\",\"key\":\"b90c6bccac76fc0512de8e148e5b198e\"}'}"
            ]
          },
          "metadata": {
            "tags": []
          },
          "execution_count": 12
        }
      ]
    },
    {
      "cell_type": "code",
      "metadata": {
        "colab": {
          "base_uri": "https://localhost:8080/"
        },
        "id": "SjOX_Ay7jbD6",
        "outputId": "a98e3d77-0c7c-45ee-a21f-9707cc597432"
      },
      "source": [
        "! mkdir ~/.kaggle\n",
        "\n",
        "! cp kaggle1.json ~/.kaggle/"
      ],
      "execution_count": 13,
      "outputs": [
        {
          "output_type": "stream",
          "text": [
            "mkdir: cannot create directory ‘/root/.kaggle’: File exists\n"
          ],
          "name": "stdout"
        }
      ]
    },
    {
      "cell_type": "code",
      "metadata": {
        "id": "Ytzb8HMnjzPH"
      },
      "source": [
        "! chmod 600 ~/.kaggle/kaggle.json"
      ],
      "execution_count": 14,
      "outputs": []
    },
    {
      "cell_type": "code",
      "metadata": {
        "colab": {
          "base_uri": "https://localhost:8080/"
        },
        "id": "GNWh1i9Yj34o",
        "outputId": "eeeb4a68-1fa3-4bed-e1f2-93bc6cd1e96d"
      },
      "source": [
        "! kaggle datasets list"
      ],
      "execution_count": 20,
      "outputs": [
        {
          "output_type": "stream",
          "text": [
            "Warning: Looks like you're using an outdated API Version, please consider updating (server 1.5.12 / client 1.5.4)\n",
            "ref                                                           title                                              size  lastUpdated          downloadCount  \n",
            "------------------------------------------------------------  ------------------------------------------------  -----  -------------------  -------------  \n",
            "gpreda/reddit-vaccine-myths                                   Reddit Vaccine Myths                              232KB  2021-06-30 11:37:00           8585  \n",
            "crowww/a-large-scale-fish-dataset                             A Large Scale Fish Dataset                          3GB  2021-04-28 17:03:01           5241  \n",
            "imsparsh/musicnet-dataset                                     MusicNet Dataset                                   22GB  2021-02-18 14:12:19           1836  \n",
            "promptcloud/careerbuilder-job-listing-2020                    Careerbuilder Job Listing 2020                     42MB  2021-03-05 06:59:52           1209  \n",
            "coloradokb/dandelionimages                                    DandelionImages                                     4GB  2021-02-19 20:03:47            598  \n",
            "nickuzmenkov/nih-chest-xrays-tfrecords                        NIH Chest X-rays TFRecords                         11GB  2021-03-09 04:49:23            663  \n",
            "dhruvildave/wikibooks-dataset                                 Wikibooks Dataset                                   2GB  2021-06-29 17:18:30           2313  \n",
            "fatiimaezzahra/famous-iconic-women                            Famous Iconic Women                               838MB  2021-02-28 14:56:00            878  \n",
            "mathurinache/twitter-edge-nodes                               Twitter Edge Nodes                                342MB  2021-03-08 06:43:04            596  \n",
            "alsgroup/end-als                                              End ALS Kaggle Challenge                           12GB  2021-04-08 12:16:37            748  \n",
            "simiotic/github-code-snippets                                 GitHub Code Snippets                                7GB  2021-03-03 11:34:39            193  \n",
            "landrykezebou/lvzhdr-tone-mapping-benchmark-dataset-tmonet    LVZ-HDR Tone Mapping Benchmark Dataset (TMO-Net)   24GB  2021-03-01 05:03:40            138  \n",
            "mathurinache/the-lj-speech-dataset                            The LJ Speech Dataset                               3GB  2021-02-15 09:19:54            215  \n",
            "imsparsh/accentdb-core-extended                               AccentDB - Core & Extended                          6GB  2021-02-17 14:22:54             87  \n",
            "nickuzmenkov/ranzcr-clip-kfold-tfrecords                      RANZCR CLiP KFold TFRecords                         2GB  2021-02-21 13:29:51             96  \n",
            "stuartjames/lights                                            LightS: Light Specularity Dataset                  18GB  2021-02-18 14:32:26             84  \n",
            "jessicali9530/animal-crossing-new-horizons-nookplaza-dataset  Animal Crossing New Horizons Catalog              577KB  2021-06-08 15:05:09           4287  \n",
            "datasnaek/youtube-new                                         Trending YouTube Video Statistics                 201MB  2019-06-03 00:56:47         143595  \n",
            "zynicide/wine-reviews                                         Wine Reviews                                       51MB  2017-11-27 17:08:04         139314  \n",
            "residentmario/ramen-ratings                                   Ramen Ratings                                      40KB  2018-01-11 16:04:39          24492  \n"
          ],
          "name": "stdout"
        }
      ]
    },
    {
      "cell_type": "code",
      "metadata": {
        "colab": {
          "base_uri": "https://localhost:8080/"
        },
        "id": "CJEu9Dq9h9qd",
        "outputId": "3c43c5c5-679a-4b0b-f6cc-8b238fab39d5"
      },
      "source": [
        "! kaggle datasets download -d jackywang529/toronto-bikeshare-data"
      ],
      "execution_count": 28,
      "outputs": [
        {
          "output_type": "stream",
          "text": [
            "Downloading toronto-bikeshare-data.zip to /content\n",
            " 84% 49.0M/58.4M [00:00<00:00, 47.1MB/s]\n",
            "100% 58.4M/58.4M [00:00<00:00, 70.6MB/s]\n"
          ],
          "name": "stdout"
        }
      ]
    },
    {
      "cell_type": "markdown",
      "metadata": {
        "id": "GAAoIUqanJm0"
      },
      "source": [
        "# dari https://www.kaggle.com/general/51898"
      ]
    },
    {
      "cell_type": "code",
      "metadata": {
        "colab": {
          "base_uri": "https://localhost:8080/"
        },
        "id": "64yHbmttiCVB",
        "outputId": "b653284c-26ca-4ea1-dd3f-fe63f02f1b4b"
      },
      "source": [
        "!mkdir -p ~/.kaggle\n",
        "!cp kaggle.json ~/.kaggle/\n",
        "!ls ~/.kaggle\n",
        "!chmod 600 /root/.kaggle/kaggle.json"
      ],
      "execution_count": 18,
      "outputs": [
        {
          "output_type": "stream",
          "text": [
            "kaggle.json\n"
          ],
          "name": "stdout"
        }
      ]
    },
    {
      "cell_type": "code",
      "metadata": {
        "colab": {
          "base_uri": "https://localhost:8080/"
        },
        "id": "WFCsTmJ6lEEW",
        "outputId": "5edd1af0-0233-4775-e930-ac83cf2bc4bf"
      },
      "source": [
        "!kaggle kernels list "
      ],
      "execution_count": 23,
      "outputs": [
        {
          "output_type": "stream",
          "text": [
            "Warning: Looks like you're using an outdated API Version, please consider updating (server 1.5.12 / client 1.5.4)\n",
            "ref                                                                  title                                              author               lastRunTime          totalVotes  \n",
            "-------------------------------------------------------------------  -------------------------------------------------  -------------------  -------------------  ----------  \n",
            "chumajin/optiver-realized-eda-for-starter-version                    Optiver Realized : EDA for starter(日本語version)     chumajin             2021-06-30 15:03:52          34  \n",
            "stefanschulmeister87/an-extensive-data-journey-on-the-titanic-top-5  An extensive data journey on the Titanic (Top 5%)  stefan schulmeister  2021-06-30 13:06:07          53  \n",
            "piantic/starter-optiver-quick-eda-automl-wip                         [Starter] Optiver - Quick EDA & AutoML🔥 (WIP)      Heroseo              2021-06-30 15:17:11          23  \n",
            "srishtipoudel/complete-eda-on-heart-attack-dataset-testing           Complete EDA on Heart Attack Dataset + Testing 🔴   Srishti Poudel       2021-06-30 13:08:52           3  \n",
            "rerere/covid-19-image-enhancement-in-progress                        COVID 19 - Image Enhancement [In Progress]         Régis                2021-06-30 10:19:03           8  \n",
            "swetash/transfer-learning-detect-pneumonia-cnn-94-acc                [Transfer Learning] Detect-Pneumonia 🩺CNN-94% acc  Sweta Shaw           2021-06-30 10:29:20           3  \n",
            "brsdincer/drinking-water-potability-all-eda-process-step-i           Drinking Water Potability/ALL EDA PROCESS/STEP I   Baris Dincer         2021-06-30 10:02:34           3  \n",
            "andretugan/pre-trained-roberta-solution-in-pytorch                   Pre-trained Roberta solution in PyTorch            andretugan           2021-06-30 01:06:31          16  \n",
            "inzamamsafi/multiclass-classification-wine-quality-beginner          Multiclass classification wine quality (beginner)  Inzamam Safi         2021-06-30 11:26:41           2  \n",
            "asifraza14/multiclass-classification-wine-quality-beginners          Multiclass Classification Wine Quality(Beginners)  Asif Raza            2021-06-30 11:26:42           2  \n",
            "samarthgupta39/almost-every-machine-learning-algo-part-i             Almost every machine learning Algo - Part I        Samarth Gupta        2021-06-30 08:44:11           3  \n",
            "dasmehdixtr/load-finetune-pretrained-model-in-pytorch                Load & FineTune Pretrained Model in PyTorch        dasmehdixtr          2021-06-30 14:02:32           1  \n",
            "asifraza14/customer-segmentation-k-means-beginners-friendly          Customer Segmentation K-Means(Beginners Friendly)  Asif Raza            2021-06-30 10:40:48           2  \n",
            "frankmollard/a-little-story-about-outliers-and-dimensions            A Little Story About Outliers and Dimensions       Frank Mollard        2021-06-30 11:42:35          11  \n",
            "inzamamsafi/customer-segmentation-k-means-easy-code                  Customer segmentation (K-means) | Easy code🔥       Inzamam Safi         2021-06-30 10:40:25           2  \n",
            "konradb/we-need-to-go-deeper                                         We need to go deeper                               Konrad Banachewicz   2021-06-30 00:05:25          38  \n",
            "tensorchoko/commonlit-readability-roberta                            🎉CommonLit- Readability- RoBERTa 日本語               tensor choko         2021-06-30 13:48:53          20  \n",
            "rawaaelghali/house-prices-advanced-regression-techniques             House Prices: Advanced Regression Techniques       Rawaa Elghali        2021-06-30 08:57:21           7  \n",
            "davidjas/alternative-of-pca-for-classification                       Alternative of PCA for Classification.             krishsai             2021-06-30 12:41:10           1  \n",
            "nevinenagi/world-happiness-analysis-nn                               World Happiness Analysis NN                        Nevine Nagi          2021-06-30 12:08:57           1  \n"
          ],
          "name": "stdout"
        }
      ]
    },
    {
      "cell_type": "markdown",
      "metadata": {
        "id": "l3Schrlsn69G"
      },
      "source": [
        "# unzip load dataset"
      ]
    },
    {
      "cell_type": "code",
      "metadata": {
        "id": "OmD-PGk5n96h"
      },
      "source": [
        "! mkdir /content/dataset"
      ],
      "execution_count": 30,
      "outputs": []
    },
    {
      "cell_type": "code",
      "metadata": {
        "colab": {
          "base_uri": "https://localhost:8080/"
        },
        "id": "f526piPnmlVp",
        "outputId": "114ab0a5-8047-40d6-e282-8ce54915cb3f"
      },
      "source": [
        "! unzip /content/toronto-bikeshare-data.zip -d /content/dataset"
      ],
      "execution_count": 31,
      "outputs": [
        {
          "output_type": "stream",
          "text": [
            "Archive:  /content/toronto-bikeshare-data.zip\n",
            "  inflating: /content/dataset/bikeshare-ridership-2017/2017 Data/Bikeshare Ridership (2017 Q1).csv  \n",
            "  inflating: /content/dataset/bikeshare-ridership-2017/2017 Data/Bikeshare Ridership (2017 Q2).csv  \n",
            "  inflating: /content/dataset/bikeshare-ridership-2017/2017 Data/Bikeshare Ridership (2017 Q3).csv  \n",
            "  inflating: /content/dataset/bikeshare-ridership-2017/2017 Data/Bikeshare Ridership (2017 Q4).csv  \n",
            "  inflating: /content/dataset/bikeshare-ridership-2017/2017 Data/~$ke Share Toronto Ridership_Approval to Publish Form.docx  \n",
            "  inflating: /content/dataset/bikeshare2018/bikeshare2018/Bike Share Toronto Ridership_Q1 2018.csv  \n",
            "  inflating: /content/dataset/bikeshare2018/bikeshare2018/Bike Share Toronto Ridership_Q2 2018.csv  \n",
            "  inflating: /content/dataset/bikeshare2018/bikeshare2018/Bike Share Toronto Ridership_Q3 2018.csv  \n",
            "  inflating: /content/dataset/bikeshare2018/bikeshare2018/Bike Share Toronto Ridership_Q4 2018.csv  \n"
          ],
          "name": "stdout"
        }
      ]
    },
    {
      "cell_type": "markdown",
      "metadata": {
        "id": "dgBrij2Uo7PD"
      },
      "source": [
        "# import package & dataset"
      ]
    },
    {
      "cell_type": "code",
      "metadata": {
        "colab": {
          "base_uri": "https://localhost:8080/"
        },
        "id": "eH5Zk49ApO3T",
        "outputId": "b494082d-3100-415f-8982-4ee28bd63d59"
      },
      "source": [
        "! pip install plotly.express"
      ],
      "execution_count": 33,
      "outputs": [
        {
          "output_type": "stream",
          "text": [
            "Collecting plotly.express\n",
            "  Downloading https://files.pythonhosted.org/packages/d4/d6/8a2906f51e073a4be80cab35cfa10e7a34853e60f3ed5304ac470852a08d/plotly_express-0.4.1-py2.py3-none-any.whl\n",
            "Requirement already satisfied: scipy>=0.18 in /usr/local/lib/python3.7/dist-packages (from plotly.express) (1.4.1)\n",
            "Requirement already satisfied: plotly>=4.1.0 in /usr/local/lib/python3.7/dist-packages (from plotly.express) (4.4.1)\n",
            "Requirement already satisfied: patsy>=0.5 in /usr/local/lib/python3.7/dist-packages (from plotly.express) (0.5.1)\n",
            "Requirement already satisfied: numpy>=1.11 in /usr/local/lib/python3.7/dist-packages (from plotly.express) (1.19.5)\n",
            "Requirement already satisfied: pandas>=0.20.0 in /usr/local/lib/python3.7/dist-packages (from plotly.express) (1.1.5)\n",
            "Requirement already satisfied: statsmodels>=0.9.0 in /usr/local/lib/python3.7/dist-packages (from plotly.express) (0.10.2)\n",
            "Requirement already satisfied: six in /usr/local/lib/python3.7/dist-packages (from plotly>=4.1.0->plotly.express) (1.15.0)\n",
            "Requirement already satisfied: retrying>=1.3.3 in /usr/local/lib/python3.7/dist-packages (from plotly>=4.1.0->plotly.express) (1.3.3)\n",
            "Requirement already satisfied: python-dateutil>=2.7.3 in /usr/local/lib/python3.7/dist-packages (from pandas>=0.20.0->plotly.express) (2.8.1)\n",
            "Requirement already satisfied: pytz>=2017.2 in /usr/local/lib/python3.7/dist-packages (from pandas>=0.20.0->plotly.express) (2018.9)\n",
            "Installing collected packages: plotly.express\n",
            "Successfully installed plotly.express\n"
          ],
          "name": "stdout"
        }
      ]
    },
    {
      "cell_type": "code",
      "metadata": {
        "colab": {
          "base_uri": "https://localhost:8080/"
        },
        "id": "wkNUvoH9pXOT",
        "outputId": "3583351f-f8d2-42f2-b96c-32466e3d3000"
      },
      "source": [
        "! pip install plotly"
      ],
      "execution_count": 35,
      "outputs": [
        {
          "output_type": "stream",
          "text": [
            "Requirement already satisfied: plotly in /usr/local/lib/python3.7/dist-packages (4.4.1)\n",
            "Requirement already satisfied: retrying>=1.3.3 in /usr/local/lib/python3.7/dist-packages (from plotly) (1.3.3)\n",
            "Requirement already satisfied: six in /usr/local/lib/python3.7/dist-packages (from plotly) (1.15.0)\n"
          ],
          "name": "stdout"
        }
      ]
    },
    {
      "cell_type": "code",
      "metadata": {
        "colab": {
          "base_uri": "https://localhost:8080/"
        },
        "id": "HBdIjk7_prhb",
        "outputId": "6e35722e-9dba-4613-8afd-5dfae41b3737"
      },
      "source": [
        "! pip install chart_studio"
      ],
      "execution_count": 37,
      "outputs": [
        {
          "output_type": "stream",
          "text": [
            "Collecting chart_studio\n",
            "\u001b[?25l  Downloading https://files.pythonhosted.org/packages/ca/ce/330794a6b6ca4b9182c38fc69dd2a9cbff60fd49421cb8648ee5fee352dc/chart_studio-1.1.0-py3-none-any.whl (64kB)\n",
            "\r\u001b[K     |█████                           | 10kB 12.9MB/s eta 0:00:01\r\u001b[K     |██████████▏                     | 20kB 17.6MB/s eta 0:00:01\r\u001b[K     |███████████████▎                | 30kB 14.4MB/s eta 0:00:01\r\u001b[K     |████████████████████▍           | 40kB 10.7MB/s eta 0:00:01\r\u001b[K     |█████████████████████████▍      | 51kB 6.9MB/s eta 0:00:01\r\u001b[K     |██████████████████████████████▌ | 61kB 6.7MB/s eta 0:00:01\r\u001b[K     |████████████████████████████████| 71kB 4.0MB/s \n",
            "\u001b[?25hRequirement already satisfied: requests in /usr/local/lib/python3.7/dist-packages (from chart_studio) (2.23.0)\n",
            "Requirement already satisfied: plotly in /usr/local/lib/python3.7/dist-packages (from chart_studio) (4.4.1)\n",
            "Requirement already satisfied: six in /usr/local/lib/python3.7/dist-packages (from chart_studio) (1.15.0)\n",
            "Requirement already satisfied: retrying>=1.3.3 in /usr/local/lib/python3.7/dist-packages (from chart_studio) (1.3.3)\n",
            "Requirement already satisfied: chardet<4,>=3.0.2 in /usr/local/lib/python3.7/dist-packages (from requests->chart_studio) (3.0.4)\n",
            "Requirement already satisfied: idna<3,>=2.5 in /usr/local/lib/python3.7/dist-packages (from requests->chart_studio) (2.10)\n",
            "Requirement already satisfied: urllib3!=1.25.0,!=1.25.1,<1.26,>=1.21.1 in /usr/local/lib/python3.7/dist-packages (from requests->chart_studio) (1.24.3)\n",
            "Requirement already satisfied: certifi>=2017.4.17 in /usr/local/lib/python3.7/dist-packages (from requests->chart_studio) (2021.5.30)\n",
            "Installing collected packages: chart-studio\n",
            "Successfully installed chart-studio-1.1.0\n"
          ],
          "name": "stdout"
        }
      ]
    },
    {
      "cell_type": "code",
      "metadata": {
        "id": "sAaomEQooi3c"
      },
      "source": [
        "import numpy as np # linear algebra\n",
        "import pandas as pd # data processing, CSV file I/O (e.g. pd.read_csv)\n",
        "\n",
        "import matplotlib.pyplot as plt\n",
        "import seaborn as sns\n",
        "%matplotlib inline\n",
        "\n",
        "import chart_studio.plotly as py\n",
        "import plotly.express as px\n",
        "import plotly.graph_objects as go\n",
        "\n",
        "from plotly import __version__\n",
        "from plotly.offline import download_plotlyjs, init_notebook_mode, plot, iplot"
      ],
      "execution_count": 40,
      "outputs": []
    },
    {
      "cell_type": "code",
      "metadata": {
        "id": "0Vi6VGYspJJZ"
      },
      "source": [
        "q1 = pd.read_csv('/content/dataset/bikeshare2018/bikeshare2018/Bike Share Toronto Ridership_Q1 2018.csv')\n",
        "q2 = pd.read_csv('/content/dataset/bikeshare2018/bikeshare2018/Bike Share Toronto Ridership_Q2 2018.csv')\n",
        "q3 = pd.read_csv('/content/dataset/bikeshare2018/bikeshare2018/Bike Share Toronto Ridership_Q3 2018.csv')\n",
        "q4 = pd.read_csv('/content/dataset/bikeshare2018/bikeshare2018/Bike Share Toronto Ridership_Q4 2018.csv')"
      ],
      "execution_count": 41,
      "outputs": []
    },
    {
      "cell_type": "code",
      "metadata": {
        "colab": {
          "base_uri": "https://localhost:8080/"
        },
        "id": "Z5IHt9V9q23U",
        "outputId": "6f802b1f-27af-4376-954a-f529e67366d4"
      },
      "source": [
        "print('1st data \\n', q1)\n",
        "print('4th data \\n', q4)"
      ],
      "execution_count": 49,
      "outputs": [
        {
          "output_type": "stream",
          "text": [
            "1st data \n",
            "         trip_id  ...      user_type\n",
            "0       2383648  ...  Annual Member\n",
            "1       2383649  ...  Annual Member\n",
            "2       2383650  ...  Annual Member\n",
            "3       2383651  ...  Annual Member\n",
            "4       2383652  ...  Annual Member\n",
            "...         ...  ...            ...\n",
            "178554  2605019  ...  Annual Member\n",
            "178555  2605020  ...  Annual Member\n",
            "178556  2605021  ...  Annual Member\n",
            "178557  2605022  ...  Annual Member\n",
            "178558  2605023  ...  Annual Member\n",
            "\n",
            "[178559 rows x 9 columns]\n",
            "4th data \n",
            "         trip_id  ...      user_type\n",
            "0       4158592  ...  Annual Member\n",
            "1       4158593  ...  Annual Member\n",
            "2       4158594  ...  Annual Member\n",
            "3       4158595  ...  Annual Member\n",
            "4       4158596  ...  Annual Member\n",
            "...         ...  ...            ...\n",
            "363485  4581273  ...  Annual Member\n",
            "363486  4581274  ...  Annual Member\n",
            "363487  4581275  ...  Annual Member\n",
            "363488  4581276  ...  Annual Member\n",
            "363489  4581277  ...  Annual Member\n",
            "\n",
            "[363490 rows x 9 columns]\n"
          ],
          "name": "stdout"
        }
      ]
    },
    {
      "cell_type": "markdown",
      "metadata": {
        "id": "BvSrfftAqn7A"
      },
      "source": [
        "# preprocess data"
      ]
    },
    {
      "cell_type": "markdown",
      "metadata": {
        "id": "ogERUjW5qnvU"
      },
      "source": [
        "Combine 4 dataset"
      ]
    },
    {
      "cell_type": "code",
      "metadata": {
        "colab": {
          "base_uri": "https://localhost:8080/",
          "height": 322
        },
        "id": "E0hT_c72qKw_",
        "outputId": "4cf3954f-328d-4fa1-d7e5-8d3b75ffec44"
      },
      "source": [
        "toronto = [q1, q2, q3, q4]\n",
        "bike_share = pd.concat(toronto)\n",
        "bike_share.head()"
      ],
      "execution_count": 51,
      "outputs": [
        {
          "output_type": "execute_result",
          "data": {
            "text/html": [
              "<div>\n",
              "<style scoped>\n",
              "    .dataframe tbody tr th:only-of-type {\n",
              "        vertical-align: middle;\n",
              "    }\n",
              "\n",
              "    .dataframe tbody tr th {\n",
              "        vertical-align: top;\n",
              "    }\n",
              "\n",
              "    .dataframe thead th {\n",
              "        text-align: right;\n",
              "    }\n",
              "</style>\n",
              "<table border=\"1\" class=\"dataframe\">\n",
              "  <thead>\n",
              "    <tr style=\"text-align: right;\">\n",
              "      <th></th>\n",
              "      <th>trip_id</th>\n",
              "      <th>trip_duration_seconds</th>\n",
              "      <th>from_station_id</th>\n",
              "      <th>trip_start_time</th>\n",
              "      <th>from_station_name</th>\n",
              "      <th>trip_stop_time</th>\n",
              "      <th>to_station_id</th>\n",
              "      <th>to_station_name</th>\n",
              "      <th>user_type</th>\n",
              "    </tr>\n",
              "  </thead>\n",
              "  <tbody>\n",
              "    <tr>\n",
              "      <th>0</th>\n",
              "      <td>2383648</td>\n",
              "      <td>393</td>\n",
              "      <td>7018</td>\n",
              "      <td>1/1/2018 0:47</td>\n",
              "      <td>Bremner Blvd / Rees St</td>\n",
              "      <td>1/1/2018 0:54</td>\n",
              "      <td>7176</td>\n",
              "      <td>Bathurst St / Fort York Blvd</td>\n",
              "      <td>Annual Member</td>\n",
              "    </tr>\n",
              "    <tr>\n",
              "      <th>1</th>\n",
              "      <td>2383649</td>\n",
              "      <td>625</td>\n",
              "      <td>7184</td>\n",
              "      <td>1/1/2018 0:52</td>\n",
              "      <td>Ossington Ave / College St</td>\n",
              "      <td>1/1/2018 1:03</td>\n",
              "      <td>7191</td>\n",
              "      <td>Central Tech  (Harbord St)</td>\n",
              "      <td>Annual Member</td>\n",
              "    </tr>\n",
              "    <tr>\n",
              "      <th>2</th>\n",
              "      <td>2383650</td>\n",
              "      <td>233</td>\n",
              "      <td>7235</td>\n",
              "      <td>1/1/2018 0:55</td>\n",
              "      <td>Bay St / College St (West Side) - SMART</td>\n",
              "      <td>1/1/2018 0:59</td>\n",
              "      <td>7021</td>\n",
              "      <td>Bay St / Albert St</td>\n",
              "      <td>Annual Member</td>\n",
              "    </tr>\n",
              "    <tr>\n",
              "      <th>3</th>\n",
              "      <td>2383651</td>\n",
              "      <td>1138</td>\n",
              "      <td>7202</td>\n",
              "      <td>1/1/2018 0:57</td>\n",
              "      <td>Queen St W / York St (City Hall)</td>\n",
              "      <td>1/1/2018 1:16</td>\n",
              "      <td>7020</td>\n",
              "      <td>Phoebe St / Spadina Ave</td>\n",
              "      <td>Annual Member</td>\n",
              "    </tr>\n",
              "    <tr>\n",
              "      <th>4</th>\n",
              "      <td>2383652</td>\n",
              "      <td>703</td>\n",
              "      <td>7004</td>\n",
              "      <td>1/1/2018 1:00</td>\n",
              "      <td>University Ave / Elm St</td>\n",
              "      <td>1/1/2018 1:12</td>\n",
              "      <td>7060</td>\n",
              "      <td>Princess St / Adelaide St E</td>\n",
              "      <td>Annual Member</td>\n",
              "    </tr>\n",
              "  </tbody>\n",
              "</table>\n",
              "</div>"
            ],
            "text/plain": [
              "   trip_id  trip_duration_seconds  ...               to_station_name      user_type\n",
              "0  2383648                    393  ...  Bathurst St / Fort York Blvd  Annual Member\n",
              "1  2383649                    625  ...    Central Tech  (Harbord St)  Annual Member\n",
              "2  2383650                    233  ...            Bay St / Albert St  Annual Member\n",
              "3  2383651                   1138  ...       Phoebe St / Spadina Ave  Annual Member\n",
              "4  2383652                    703  ...   Princess St / Adelaide St E  Annual Member\n",
              "\n",
              "[5 rows x 9 columns]"
            ]
          },
          "metadata": {
            "tags": []
          },
          "execution_count": 51
        }
      ]
    },
    {
      "cell_type": "code",
      "metadata": {
        "colab": {
          "base_uri": "https://localhost:8080/"
        },
        "id": "sHj3-4XuqyQS",
        "outputId": "2be9207a-e7b7-43a3-c26b-428377c93974"
      },
      "source": [
        "print(bike_share)"
      ],
      "execution_count": 52,
      "outputs": [
        {
          "output_type": "stream",
          "text": [
            "        trip_id  ...      user_type\n",
            "0       2383648  ...  Annual Member\n",
            "1       2383649  ...  Annual Member\n",
            "2       2383650  ...  Annual Member\n",
            "3       2383651  ...  Annual Member\n",
            "4       2383652  ...  Annual Member\n",
            "...         ...  ...            ...\n",
            "363485  4581273  ...  Annual Member\n",
            "363486  4581274  ...  Annual Member\n",
            "363487  4581275  ...  Annual Member\n",
            "363488  4581276  ...  Annual Member\n",
            "363489  4581277  ...  Annual Member\n",
            "\n",
            "[1922955 rows x 9 columns]\n"
          ],
          "name": "stdout"
        }
      ]
    },
    {
      "cell_type": "markdown",
      "metadata": {
        "id": "RFupfG1Drupu"
      },
      "source": [
        "Before moving forward with the EDA, we need to convert the objects into DateTime format:"
      ]
    },
    {
      "cell_type": "code",
      "metadata": {
        "id": "GzBevnlXritu"
      },
      "source": [
        "bike_share['trip_start_time'] = pd.to_datetime(bike_share['trip_start_time'])\n",
        "bike_share['trip_stop_time'] = pd.to_datetime(bike_share['trip_stop_time'])"
      ],
      "execution_count": 53,
      "outputs": []
    },
    {
      "cell_type": "markdown",
      "metadata": {
        "id": "4JnIOeVtr8rB"
      },
      "source": [
        "Now we extract the hour, month and day of the week from both columns:"
      ]
    },
    {
      "cell_type": "code",
      "metadata": {
        "id": "5PAEnX24r70a"
      },
      "source": [
        "bike_share['hour_start'] = bike_share['trip_start_time'].apply(lambda time: time.hour)\n",
        "bike_share['month_start'] = bike_share['trip_start_time'].apply(lambda time: time.month)\n",
        "bike_share['weekday_start'] = bike_share['trip_start_time'].apply(lambda time: time.dayofweek)"
      ],
      "execution_count": 54,
      "outputs": []
    },
    {
      "cell_type": "code",
      "metadata": {
        "id": "DPYifPner5XB"
      },
      "source": [
        "bike_share['hour_stop'] = bike_share['trip_stop_time'].apply(lambda time: time.hour)\n",
        "bike_share['month_stop'] = bike_share['trip_stop_time'].apply(lambda time: time.month)\n",
        "bike_share['weekday_stop'] = bike_share['trip_stop_time'].apply(lambda time: time.dayofweek)"
      ],
      "execution_count": 55,
      "outputs": []
    },
    {
      "cell_type": "code",
      "metadata": {
        "id": "j8zDB3jWsKL9"
      },
      "source": [
        "mon = {1:'Jan',2:'Feb',3:'Mar',4:'Apr',5:'May',6:'Jun',7:'Jul',8:'Aug',9:'Sep',10:'Oct',11:'Nov',12:'Dec'}\n",
        "bike_share['month_start'] = bike_share['month_start'].map(mon)\n",
        "bike_share['month_stop'] = bike_share['month_stop'].map(mon)"
      ],
      "execution_count": 56,
      "outputs": []
    },
    {
      "cell_type": "code",
      "metadata": {
        "id": "WHtu5ha2sL_P"
      },
      "source": [
        "day = {0:'Mon',1:'Tue',2:'Wed',3:'Thu',4:'Fri',5:'Sat',6:'Sun'}\n",
        "bike_share['weekday_start'] = bike_share['weekday_start'].map(day)\n",
        "bike_share['weekday_stop'] = bike_share['weekday_stop'].map(day)"
      ],
      "execution_count": 57,
      "outputs": []
    },
    {
      "cell_type": "markdown",
      "metadata": {
        "id": "dlRAJqNDsWtW"
      },
      "source": [
        "And this is the result"
      ]
    },
    {
      "cell_type": "code",
      "metadata": {
        "colab": {
          "base_uri": "https://localhost:8080/",
          "height": 322
        },
        "id": "hBzDiAMJsOKB",
        "outputId": "0586d312-d98f-4d13-c6a8-ca5da482eeae"
      },
      "source": [
        "bike_share.head()"
      ],
      "execution_count": 58,
      "outputs": [
        {
          "output_type": "execute_result",
          "data": {
            "text/html": [
              "<div>\n",
              "<style scoped>\n",
              "    .dataframe tbody tr th:only-of-type {\n",
              "        vertical-align: middle;\n",
              "    }\n",
              "\n",
              "    .dataframe tbody tr th {\n",
              "        vertical-align: top;\n",
              "    }\n",
              "\n",
              "    .dataframe thead th {\n",
              "        text-align: right;\n",
              "    }\n",
              "</style>\n",
              "<table border=\"1\" class=\"dataframe\">\n",
              "  <thead>\n",
              "    <tr style=\"text-align: right;\">\n",
              "      <th></th>\n",
              "      <th>trip_id</th>\n",
              "      <th>trip_duration_seconds</th>\n",
              "      <th>from_station_id</th>\n",
              "      <th>trip_start_time</th>\n",
              "      <th>from_station_name</th>\n",
              "      <th>trip_stop_time</th>\n",
              "      <th>to_station_id</th>\n",
              "      <th>to_station_name</th>\n",
              "      <th>user_type</th>\n",
              "      <th>hour_start</th>\n",
              "      <th>month_start</th>\n",
              "      <th>weekday_start</th>\n",
              "      <th>hour_stop</th>\n",
              "      <th>month_stop</th>\n",
              "      <th>weekday_stop</th>\n",
              "    </tr>\n",
              "  </thead>\n",
              "  <tbody>\n",
              "    <tr>\n",
              "      <th>0</th>\n",
              "      <td>2383648</td>\n",
              "      <td>393</td>\n",
              "      <td>7018</td>\n",
              "      <td>2018-01-01 00:47:00</td>\n",
              "      <td>Bremner Blvd / Rees St</td>\n",
              "      <td>2018-01-01 00:54:00</td>\n",
              "      <td>7176</td>\n",
              "      <td>Bathurst St / Fort York Blvd</td>\n",
              "      <td>Annual Member</td>\n",
              "      <td>0</td>\n",
              "      <td>Jan</td>\n",
              "      <td>Mon</td>\n",
              "      <td>0</td>\n",
              "      <td>Jan</td>\n",
              "      <td>Mon</td>\n",
              "    </tr>\n",
              "    <tr>\n",
              "      <th>1</th>\n",
              "      <td>2383649</td>\n",
              "      <td>625</td>\n",
              "      <td>7184</td>\n",
              "      <td>2018-01-01 00:52:00</td>\n",
              "      <td>Ossington Ave / College St</td>\n",
              "      <td>2018-01-01 01:03:00</td>\n",
              "      <td>7191</td>\n",
              "      <td>Central Tech  (Harbord St)</td>\n",
              "      <td>Annual Member</td>\n",
              "      <td>0</td>\n",
              "      <td>Jan</td>\n",
              "      <td>Mon</td>\n",
              "      <td>1</td>\n",
              "      <td>Jan</td>\n",
              "      <td>Mon</td>\n",
              "    </tr>\n",
              "    <tr>\n",
              "      <th>2</th>\n",
              "      <td>2383650</td>\n",
              "      <td>233</td>\n",
              "      <td>7235</td>\n",
              "      <td>2018-01-01 00:55:00</td>\n",
              "      <td>Bay St / College St (West Side) - SMART</td>\n",
              "      <td>2018-01-01 00:59:00</td>\n",
              "      <td>7021</td>\n",
              "      <td>Bay St / Albert St</td>\n",
              "      <td>Annual Member</td>\n",
              "      <td>0</td>\n",
              "      <td>Jan</td>\n",
              "      <td>Mon</td>\n",
              "      <td>0</td>\n",
              "      <td>Jan</td>\n",
              "      <td>Mon</td>\n",
              "    </tr>\n",
              "    <tr>\n",
              "      <th>3</th>\n",
              "      <td>2383651</td>\n",
              "      <td>1138</td>\n",
              "      <td>7202</td>\n",
              "      <td>2018-01-01 00:57:00</td>\n",
              "      <td>Queen St W / York St (City Hall)</td>\n",
              "      <td>2018-01-01 01:16:00</td>\n",
              "      <td>7020</td>\n",
              "      <td>Phoebe St / Spadina Ave</td>\n",
              "      <td>Annual Member</td>\n",
              "      <td>0</td>\n",
              "      <td>Jan</td>\n",
              "      <td>Mon</td>\n",
              "      <td>1</td>\n",
              "      <td>Jan</td>\n",
              "      <td>Mon</td>\n",
              "    </tr>\n",
              "    <tr>\n",
              "      <th>4</th>\n",
              "      <td>2383652</td>\n",
              "      <td>703</td>\n",
              "      <td>7004</td>\n",
              "      <td>2018-01-01 01:00:00</td>\n",
              "      <td>University Ave / Elm St</td>\n",
              "      <td>2018-01-01 01:12:00</td>\n",
              "      <td>7060</td>\n",
              "      <td>Princess St / Adelaide St E</td>\n",
              "      <td>Annual Member</td>\n",
              "      <td>1</td>\n",
              "      <td>Jan</td>\n",
              "      <td>Mon</td>\n",
              "      <td>1</td>\n",
              "      <td>Jan</td>\n",
              "      <td>Mon</td>\n",
              "    </tr>\n",
              "  </tbody>\n",
              "</table>\n",
              "</div>"
            ],
            "text/plain": [
              "   trip_id  trip_duration_seconds  ...  month_stop weekday_stop\n",
              "0  2383648                    393  ...         Jan          Mon\n",
              "1  2383649                    625  ...         Jan          Mon\n",
              "2  2383650                    233  ...         Jan          Mon\n",
              "3  2383651                   1138  ...         Jan          Mon\n",
              "4  2383652                    703  ...         Jan          Mon\n",
              "\n",
              "[5 rows x 15 columns]"
            ]
          },
          "metadata": {
            "tags": []
          },
          "execution_count": 58
        }
      ]
    },
    {
      "cell_type": "markdown",
      "metadata": {
        "id": "UcFB00iSufuo"
      },
      "source": [
        "So how did the Bike Share Toronto membership look in 2018?"
      ]
    },
    {
      "cell_type": "code",
      "metadata": {
        "colab": {
          "base_uri": "https://localhost:8080/",
          "height": 367
        },
        "id": "6X0XGVEzsa3s",
        "outputId": "6663c32a-937e-4d49-d9b5-1075af017e47"
      },
      "source": [
        "plt.figure(figsize=(10,5))\n",
        "sns.set_style('darkgrid')\n",
        "sns.countplot(x='user_type',data=bike_share,palette='viridis')\n",
        "plt.title('Bike Share Toronto Membership 2018')"
      ],
      "execution_count": 59,
      "outputs": [
        {
          "output_type": "execute_result",
          "data": {
            "text/plain": [
              "Text(0.5, 1.0, 'Bike Share Toronto Membership 2018')"
            ]
          },
          "metadata": {
            "tags": []
          },
          "execution_count": 59
        },
        {
          "output_type": "display_data",
          "data": {
            "image/png": "[encoded data removed]",
            "text/plain": [
              "<Figure size 720x360 with 1 Axes>"
            ]
          },
          "metadata": {
            "tags": [],
            "needs_background": "light"
          }
        }
      ]
    },
    {
      "cell_type": "markdown",
      "metadata": {
        "id": "iXTp6Sw2ulvy"
      },
      "source": [
        "82% are annual members!\n",
        "\n",
        "Ridership per month:"
      ]
    },
    {
      "cell_type": "code",
      "metadata": {
        "colab": {
          "base_uri": "https://localhost:8080/",
          "height": 368
        },
        "id": "EujtByXgseYu",
        "outputId": "2b63317d-ccc1-4de7-8ade-bb0c43b39532"
      },
      "source": [
        "plt.figure(figsize=(10,5))\n",
        "sns.set_style('darkgrid')\n",
        "ridership = sns.countplot(data=bike_share, x='month_start', hue='user_type', palette='coolwarm')\n",
        "plt.title('Bike Share Toronto Ridership 2018')\n",
        "plt.legend(bbox_to_anchor=(1.02, 1), loc=2, borderaxespad=0.)"
      ],
      "execution_count": 60,
      "outputs": [
        {
          "output_type": "execute_result",
          "data": {
            "text/plain": [
              "<matplotlib.legend.Legend at 0x7f046480bf50>"
            ]
          },
          "metadata": {
            "tags": []
          },
          "execution_count": 60
        },
        {
          "output_type": "display_data",
          "data": {
            "image/png": "[encoded data removed]",
            "text/plain": [
              "<Figure size 720x360 with 1 Axes>"
            ]
          },
          "metadata": {
            "tags": []
          }
        }
      ]
    },
    {
      "cell_type": "markdown",
      "metadata": {
        "id": "Q3lVS9SRusLT"
      },
      "source": [
        "The amount of rides increased as the weather got warmer. Ridership peaked during the summer months.\n",
        "\n",
        "Ridership per day:"
      ]
    },
    {
      "cell_type": "code",
      "metadata": {
        "colab": {
          "base_uri": "https://localhost:8080/",
          "height": 368
        },
        "id": "bXJzTjXzsg4q",
        "outputId": "e3638d56-44c3-448b-84c0-fcbe1a5607ef"
      },
      "source": [
        "plt.figure(figsize=(10,5))\n",
        "sns.set_style('darkgrid')\n",
        "ridership = sns.countplot(data=bike_share, x='weekday_start', hue='user_type', palette='coolwarm')\n",
        "plt.title('Bike Share Toronto Ridership 2018')\n",
        "plt.legend(bbox_to_anchor=(1.02, 1), loc=2, borderaxespad=0.)"
      ],
      "execution_count": 61,
      "outputs": [
        {
          "output_type": "execute_result",
          "data": {
            "text/plain": [
              "<matplotlib.legend.Legend at 0x7f046475f6d0>"
            ]
          },
          "metadata": {
            "tags": []
          },
          "execution_count": 61
        },
        {
          "output_type": "display_data",
          "data": {
            "image/png": "[encoded data removed]",
            "text/plain": [
              "<Figure size 720x360 with 1 Axes>"
            ]
          },
          "metadata": {
            "tags": []
          }
        }
      ]
    },
    {
      "cell_type": "markdown",
      "metadata": {
        "id": "00PBWP9xu0wM"
      },
      "source": [
        "Annual members rode mostly during the week; especially from Tuesday to Thursday. Casual members were riding mostly on weekends.\n",
        "\n",
        "Ridership per hour:"
      ]
    },
    {
      "cell_type": "code",
      "metadata": {
        "colab": {
          "base_uri": "https://localhost:8080/",
          "height": 368
        },
        "id": "J0EOYrv4sk5Y",
        "outputId": "27c54ba1-3eb8-4732-d068-75010b44e7c4"
      },
      "source": [
        "plt.figure(figsize=(10,5))\n",
        "sns.set_style('darkgrid')\n",
        "ridership = sns.countplot(data=bike_share, x='hour_start', hue='user_type', palette='coolwarm')\n",
        "plt.title('Bike Share Toronto Ridership 2018')\n",
        "plt.legend(bbox_to_anchor=(1.02, 1), loc=2, borderaxespad=0.)"
      ],
      "execution_count": 62,
      "outputs": [
        {
          "output_type": "execute_result",
          "data": {
            "text/plain": [
              "<matplotlib.legend.Legend at 0x7f0464731850>"
            ]
          },
          "metadata": {
            "tags": []
          },
          "execution_count": 62
        },
        {
          "output_type": "display_data",
          "data": {
            "image/png": "[encoded data removed]",
            "text/plain": [
              "<Figure size 720x360 with 1 Axes>"
            ]
          },
          "metadata": {
            "tags": []
          }
        }
      ]
    },
    {
      "cell_type": "markdown",
      "metadata": {
        "id": "GqMzDBwmu5rr"
      },
      "source": [
        "Annual members rode between 8am-9am and 4pm-6pm; while casual members were riding throughout the day (noon to the early evening hours).\n",
        "\n",
        "Now the top stations for annual members:"
      ]
    },
    {
      "cell_type": "code",
      "metadata": {
        "colab": {
          "base_uri": "https://localhost:8080/",
          "height": 367
        },
        "id": "YdHt9wn2snVQ",
        "outputId": "e5bd4fc6-9444-45cd-e94f-f4ccb5f2da25"
      },
      "source": [
        "plt.figure(figsize=(10,5))\n",
        "sns.set_style('darkgrid')\n",
        "sns.countplot(y=bike_share[bike_share['user_type']=='Annual Member']['from_station_name'],data=bike_share, palette='coolwarm',order=bike_share[bike_share['user_type']=='Annual Member']['from_station_name'].value_counts().index[:5])\n",
        "plt.title('Top 5 Departing Stations (Annual Members)')"
      ],
      "execution_count": 63,
      "outputs": [
        {
          "output_type": "execute_result",
          "data": {
            "text/plain": [
              "Text(0.5, 1.0, 'Top 5 Departing Stations (Annual Members)')"
            ]
          },
          "metadata": {
            "tags": []
          },
          "execution_count": 63
        },
        {
          "output_type": "display_data",
          "data": {
            "image/png": "[encoded data removed]",
            "text/plain": [
              "<Figure size 720x360 with 1 Axes>"
            ]
          },
          "metadata": {
            "tags": []
          }
        }
      ]
    },
    {
      "cell_type": "code",
      "metadata": {
        "colab": {
          "base_uri": "https://localhost:8080/",
          "height": 367
        },
        "id": "jchaBNNmspow",
        "outputId": "a253ad06-b437-4d3c-d637-ee9657382b29"
      },
      "source": [
        "plt.figure(figsize=(10,5))\n",
        "sns.set_style('darkgrid')\n",
        "sns.countplot(y=bike_share[bike_share['user_type']=='Annual Member']['to_station_name'],data=bike_share, palette='coolwarm',order=bike_share[bike_share['user_type']=='Annual Member']['to_station_name'].value_counts().index[:5])\n",
        "plt.title('Top 5 Arriving Stations (Annual Members)')"
      ],
      "execution_count": 64,
      "outputs": [
        {
          "output_type": "execute_result",
          "data": {
            "text/plain": [
              "Text(0.5, 1.0, 'Top 5 Arriving Stations (Annual Members)')"
            ]
          },
          "metadata": {
            "tags": []
          },
          "execution_count": 64
        },
        {
          "output_type": "display_data",
          "data": {
            "image/png": "[encoded data removed]",
            "text/plain": [
              "<Figure size 720x360 with 1 Axes>"
            ]
          },
          "metadata": {
            "tags": []
          }
        }
      ]
    },
    {
      "cell_type": "markdown",
      "metadata": {
        "id": "LvrQ72g3vNCs"
      },
      "source": [
        "Now the top stations for casual members:"
      ]
    },
    {
      "cell_type": "code",
      "metadata": {
        "colab": {
          "base_uri": "https://localhost:8080/",
          "height": 367
        },
        "id": "Qt654gPssuU9",
        "outputId": "43a454f3-1047-4810-bdab-e59c3130d0d2"
      },
      "source": [
        "plt.figure(figsize=(10,5))\n",
        "sns.set_style('darkgrid')\n",
        "sns.countplot(y=bike_share[bike_share['user_type']=='Casual Member']['from_station_name'],data=bike_share, palette='viridis',order=bike_share[bike_share['user_type']=='Casual Member']['from_station_name'].value_counts().index[:5])\n",
        "plt.title('Top 5 Departing Stations (Casual Members)')"
      ],
      "execution_count": 65,
      "outputs": [
        {
          "output_type": "execute_result",
          "data": {
            "text/plain": [
              "Text(0.5, 1.0, 'Top 5 Departing Stations (Casual Members)')"
            ]
          },
          "metadata": {
            "tags": []
          },
          "execution_count": 65
        },
        {
          "output_type": "display_data",
          "data": {
            "image/png": "[encoded data removed]",
            "text/plain": [
              "<Figure size 720x360 with 1 Axes>"
            ]
          },
          "metadata": {
            "tags": []
          }
        }
      ]
    },
    {
      "cell_type": "code",
      "metadata": {
        "colab": {
          "base_uri": "https://localhost:8080/",
          "height": 367
        },
        "id": "J1jDS7g7vo-2",
        "outputId": "8b085715-b8cf-45d3-9c63-a47e0a21e21b"
      },
      "source": [
        "plt.figure(figsize=(10,5))\n",
        "sns.set_style('darkgrid')\n",
        "sns.countplot(y=bike_share[bike_share['user_type']=='Casual Member']['to_station_name'],data=bike_share, palette='viridis',order=bike_share[bike_share['user_type']=='Casual Member']['to_station_name'].value_counts().index[:5])\n",
        "plt.title('Top 5 Arriving Stations (Casual Members)')"
      ],
      "execution_count": 68,
      "outputs": [
        {
          "output_type": "execute_result",
          "data": {
            "text/plain": [
              "Text(0.5, 1.0, 'Top 5 Arriving Stations (Casual Members)')"
            ]
          },
          "metadata": {
            "tags": []
          },
          "execution_count": 68
        },
        {
          "output_type": "display_data",
          "data": {
            "image/png": "[encoded data removed]",
            "text/plain": [
              "<Figure size 720x360 with 1 Axes>"
            ]
          },
          "metadata": {
            "tags": []
          }
        }
      ]
    },
    {
      "cell_type": "markdown",
      "metadata": {
        "id": "FeUv3y_Dtt0M"
      },
      "source": [
        "We created a heat map to see the daily activity.\n",
        "\n",
        "Before that happens, We needed to group the DataFrame by the hour and the day of the week:"
      ]
    },
    {
      "cell_type": "code",
      "metadata": {
        "colab": {
          "base_uri": "https://localhost:8080/",
          "height": 252
        },
        "id": "Hd0GBl1hsx7v",
        "outputId": "aa1af128-eb86-425d-c8aa-e31dd26e5576"
      },
      "source": [
        "daily_activity = bike_share.groupby(by=['weekday_start','hour_start']).count()['user_type'].unstack()\n",
        "daily_activity.head()"
      ],
      "execution_count": 69,
      "outputs": [
        {
          "output_type": "execute_result",
          "data": {
            "text/html": [
              "<div>\n",
              "<style scoped>\n",
              "    .dataframe tbody tr th:only-of-type {\n",
              "        vertical-align: middle;\n",
              "    }\n",
              "\n",
              "    .dataframe tbody tr th {\n",
              "        vertical-align: top;\n",
              "    }\n",
              "\n",
              "    .dataframe thead th {\n",
              "        text-align: right;\n",
              "    }\n",
              "</style>\n",
              "<table border=\"1\" class=\"dataframe\">\n",
              "  <thead>\n",
              "    <tr style=\"text-align: right;\">\n",
              "      <th>hour_start</th>\n",
              "      <th>0</th>\n",
              "      <th>1</th>\n",
              "      <th>2</th>\n",
              "      <th>3</th>\n",
              "      <th>4</th>\n",
              "      <th>5</th>\n",
              "      <th>6</th>\n",
              "      <th>7</th>\n",
              "      <th>8</th>\n",
              "      <th>9</th>\n",
              "      <th>10</th>\n",
              "      <th>11</th>\n",
              "      <th>12</th>\n",
              "      <th>13</th>\n",
              "      <th>14</th>\n",
              "      <th>15</th>\n",
              "      <th>16</th>\n",
              "      <th>17</th>\n",
              "      <th>18</th>\n",
              "      <th>19</th>\n",
              "      <th>20</th>\n",
              "      <th>21</th>\n",
              "      <th>22</th>\n",
              "      <th>23</th>\n",
              "    </tr>\n",
              "    <tr>\n",
              "      <th>weekday_start</th>\n",
              "      <th></th>\n",
              "      <th></th>\n",
              "      <th></th>\n",
              "      <th></th>\n",
              "      <th></th>\n",
              "      <th></th>\n",
              "      <th></th>\n",
              "      <th></th>\n",
              "      <th></th>\n",
              "      <th></th>\n",
              "      <th></th>\n",
              "      <th></th>\n",
              "      <th></th>\n",
              "      <th></th>\n",
              "      <th></th>\n",
              "      <th></th>\n",
              "      <th></th>\n",
              "      <th></th>\n",
              "      <th></th>\n",
              "      <th></th>\n",
              "      <th></th>\n",
              "      <th></th>\n",
              "      <th></th>\n",
              "      <th></th>\n",
              "    </tr>\n",
              "  </thead>\n",
              "  <tbody>\n",
              "    <tr>\n",
              "      <th>Fri</th>\n",
              "      <td>2758</td>\n",
              "      <td>1435</td>\n",
              "      <td>921</td>\n",
              "      <td>415</td>\n",
              "      <td>526</td>\n",
              "      <td>1260</td>\n",
              "      <td>3920</td>\n",
              "      <td>11609</td>\n",
              "      <td>32232</td>\n",
              "      <td>20841</td>\n",
              "      <td>10622</td>\n",
              "      <td>11655</td>\n",
              "      <td>14573</td>\n",
              "      <td>14568</td>\n",
              "      <td>14195</td>\n",
              "      <td>17432</td>\n",
              "      <td>25558</td>\n",
              "      <td>32928</td>\n",
              "      <td>23487</td>\n",
              "      <td>16498</td>\n",
              "      <td>11998</td>\n",
              "      <td>9395</td>\n",
              "      <td>7385</td>\n",
              "      <td>6088</td>\n",
              "    </tr>\n",
              "    <tr>\n",
              "      <th>Mon</th>\n",
              "      <td>2163</td>\n",
              "      <td>1213</td>\n",
              "      <td>853</td>\n",
              "      <td>419</td>\n",
              "      <td>462</td>\n",
              "      <td>1295</td>\n",
              "      <td>3556</td>\n",
              "      <td>10103</td>\n",
              "      <td>27657</td>\n",
              "      <td>17099</td>\n",
              "      <td>9069</td>\n",
              "      <td>10435</td>\n",
              "      <td>13439</td>\n",
              "      <td>13504</td>\n",
              "      <td>12825</td>\n",
              "      <td>13925</td>\n",
              "      <td>21527</td>\n",
              "      <td>34102</td>\n",
              "      <td>25205</td>\n",
              "      <td>16828</td>\n",
              "      <td>12268</td>\n",
              "      <td>9289</td>\n",
              "      <td>6265</td>\n",
              "      <td>3783</td>\n",
              "    </tr>\n",
              "    <tr>\n",
              "      <th>Sat</th>\n",
              "      <td>4092</td>\n",
              "      <td>3031</td>\n",
              "      <td>2328</td>\n",
              "      <td>1028</td>\n",
              "      <td>484</td>\n",
              "      <td>481</td>\n",
              "      <td>1046</td>\n",
              "      <td>2387</td>\n",
              "      <td>5029</td>\n",
              "      <td>8721</td>\n",
              "      <td>11345</td>\n",
              "      <td>14722</td>\n",
              "      <td>17401</td>\n",
              "      <td>18793</td>\n",
              "      <td>19338</td>\n",
              "      <td>19476</td>\n",
              "      <td>19770</td>\n",
              "      <td>18857</td>\n",
              "      <td>17070</td>\n",
              "      <td>14714</td>\n",
              "      <td>11221</td>\n",
              "      <td>8531</td>\n",
              "      <td>6771</td>\n",
              "      <td>5739</td>\n",
              "    </tr>\n",
              "    <tr>\n",
              "      <th>Sun</th>\n",
              "      <td>4006</td>\n",
              "      <td>3295</td>\n",
              "      <td>2632</td>\n",
              "      <td>1255</td>\n",
              "      <td>590</td>\n",
              "      <td>506</td>\n",
              "      <td>956</td>\n",
              "      <td>2003</td>\n",
              "      <td>3762</td>\n",
              "      <td>7050</td>\n",
              "      <td>10731</td>\n",
              "      <td>13789</td>\n",
              "      <td>16296</td>\n",
              "      <td>18352</td>\n",
              "      <td>19329</td>\n",
              "      <td>20077</td>\n",
              "      <td>19791</td>\n",
              "      <td>18548</td>\n",
              "      <td>16553</td>\n",
              "      <td>13864</td>\n",
              "      <td>10903</td>\n",
              "      <td>7996</td>\n",
              "      <td>5712</td>\n",
              "      <td>4209</td>\n",
              "    </tr>\n",
              "    <tr>\n",
              "      <th>Thu</th>\n",
              "      <td>2325</td>\n",
              "      <td>1172</td>\n",
              "      <td>786</td>\n",
              "      <td>286</td>\n",
              "      <td>394</td>\n",
              "      <td>1421</td>\n",
              "      <td>4299</td>\n",
              "      <td>13083</td>\n",
              "      <td>35853</td>\n",
              "      <td>23436</td>\n",
              "      <td>10892</td>\n",
              "      <td>11146</td>\n",
              "      <td>14052</td>\n",
              "      <td>13628</td>\n",
              "      <td>12264</td>\n",
              "      <td>14885</td>\n",
              "      <td>24155</td>\n",
              "      <td>37018</td>\n",
              "      <td>27652</td>\n",
              "      <td>18586</td>\n",
              "      <td>13675</td>\n",
              "      <td>10153</td>\n",
              "      <td>7495</td>\n",
              "      <td>5217</td>\n",
              "    </tr>\n",
              "  </tbody>\n",
              "</table>\n",
              "</div>"
            ],
            "text/plain": [
              "hour_start       0     1     2     3    4   ...     19     20     21    22    23\n",
              "weekday_start                               ...                                 \n",
              "Fri            2758  1435   921   415  526  ...  16498  11998   9395  7385  6088\n",
              "Mon            2163  1213   853   419  462  ...  16828  12268   9289  6265  3783\n",
              "Sat            4092  3031  2328  1028  484  ...  14714  11221   8531  6771  5739\n",
              "Sun            4006  3295  2632  1255  590  ...  13864  10903   7996  5712  4209\n",
              "Thu            2325  1172   786   286  394  ...  18586  13675  10153  7495  5217\n",
              "\n",
              "[5 rows x 24 columns]"
            ]
          },
          "metadata": {
            "tags": []
          },
          "execution_count": 69
        }
      ]
    },
    {
      "cell_type": "code",
      "metadata": {
        "colab": {
          "base_uri": "https://localhost:8080/",
          "height": 406
        },
        "id": "gCi6xIQ9s092",
        "outputId": "59b1d499-ac64-4c30-e051-7e3a6c330dfa"
      },
      "source": [
        "plt.figure(figsize=(12,6))\n",
        "sns.heatmap(daily_activity,cmap='coolwarm')"
      ],
      "execution_count": 70,
      "outputs": [
        {
          "output_type": "execute_result",
          "data": {
            "text/plain": [
              "<matplotlib.axes._subplots.AxesSubplot at 0x7f0464299550>"
            ]
          },
          "metadata": {
            "tags": []
          },
          "execution_count": 70
        },
        {
          "output_type": "display_data",
          "data": {
            "image/png": "[encoded data removed]",
            "text/plain": [
              "<Figure size 864x432 with 2 Axes>"
            ]
          },
          "metadata": {
            "tags": []
          }
        }
      ]
    },
    {
      "cell_type": "markdown",
      "metadata": {
        "id": "YiE064vOvzX0"
      },
      "source": [
        "And We then conclud that : <br>\n",
        "**Most of the activity occured on Wednesday, Tuesday and Thursday at 5.**"
      ]
    },
    {
      "cell_type": "code",
      "metadata": {
        "id": "Qn3QPgEds3I1"
      },
      "source": [
        ""
      ],
      "execution_count": 70,
      "outputs": []
    }
  ]
}